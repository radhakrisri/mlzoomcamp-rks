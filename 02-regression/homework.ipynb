{
 "cells": [
  {
   "cell_type": "markdown",
   "metadata": {},
   "source": [
    "# Dataset\n",
    "In this homework, we will use the California Housing Prices from Kaggle.\n",
    "\n",
    "Here's a wget-able link:\n",
    "\n",
    "```wget https://raw.githubusercontent.com/alexeygrigorev/datasets/master/housing.csv```\n",
    "\n",
    "The goal of this homework is to create a regression model for predicting housing prices (column 'median_house_value').\n"
   ]
  },
  {
   "cell_type": "code",
   "execution_count": 8,
   "metadata": {},
   "outputs": [],
   "source": [
    "data = 'https://raw.githubusercontent.com/alexeygrigorev/datasets/master/housing.csv'"
   ]
  },
  {
   "cell_type": "code",
   "execution_count": 9,
   "metadata": {},
   "outputs": [
    {
     "name": "stdout",
     "output_type": "stream",
     "text": [
      "--2023-09-25 10:58:16--  https://raw.githubusercontent.com/alexeygrigorev/datasets/master/housing.csv\n",
      "Resolving raw.githubusercontent.com (raw.githubusercontent.com)... 185.199.111.133, 185.199.110.133, 185.199.109.133, ...\n",
      "Connecting to raw.githubusercontent.com (raw.githubusercontent.com)|185.199.111.133|:443... connected.\n",
      "HTTP request sent, awaiting response... 200 OK\n",
      "Length: 1423529 (1.4M) [text/plain]\n",
      "Saving to: ‘housing.csv’\n",
      "\n",
      "housing.csv         100%[===================>]   1.36M   663KB/s    in 2.1s    \n",
      "\n",
      "2023-09-25 10:58:18 (663 KB/s) - ‘housing.csv’ saved [1423529/1423529]\n",
      "\n"
     ]
    }
   ],
   "source": [
    "!wget $data"
   ]
  },
  {
   "cell_type": "markdown",
   "metadata": {},
   "source": [
    "--------------"
   ]
  },
  {
   "cell_type": "markdown",
   "metadata": {},
   "source": [
    "\n",
    "# EDA\n",
    "- Load the data.\n",
    "- Look at the median_house_value variable. Does it have a long tail?"
   ]
  },
  {
   "cell_type": "code",
   "execution_count": 14,
   "metadata": {},
   "outputs": [],
   "source": [
    "import pandas as pd\n",
    "import numpy as np\n",
    "\n",
    "import seaborn as sns\n",
    "from matplotlib import pyplot as plt\n",
    "%matplotlib inline"
   ]
  },
  {
   "cell_type": "code",
   "execution_count": 26,
   "metadata": {},
   "outputs": [
    {
     "name": "stdout",
     "output_type": "stream",
     "text": [
      "Distribution of median_house_value\n"
     ]
    },
    {
     "data": {
      "text/plain": [
       "<Axes: xlabel='median_house_value', ylabel='Count'>"
      ]
     },
     "execution_count": 26,
     "metadata": {},
     "output_type": "execute_result"
    },
    {
     "data": {
      "image/png": "[encoded data removed]",
      "text/plain": [
       "<Figure size 640x480 with 1 Axes>"
      ]
     },
     "metadata": {},
     "output_type": "display_data"
    }
   ],
   "source": [
    "df = pd.read_csv('housing.csv')\n",
    "\n",
    "print('Distribution of median_house_value')\n",
    "sns.histplot(df.median_house_value)"
   ]
  },
  {
   "cell_type": "markdown",
   "metadata": {},
   "source": [
    "-------------"
   ]
  },
  {
   "cell_type": "markdown",
   "metadata": {},
   "source": [
    "# Preparing the dataset\n",
    "For this homework, we only want to use a subset of data.\n",
    "\n",
    "First, keep only the records where ocean_proximity is either '<1H OCEAN' or 'INLAND'\n",
    "\n",
    "Next, use only the following columns:\n",
    "\n",
    "- 'latitude',\n",
    "- 'longitude',\n",
    "- 'housing_median_age',\n",
    "- 'total_rooms',\n",
    "- 'total_bedrooms',\n",
    "- 'population',\n",
    "- 'households',\n",
    "- 'median_income',\n",
    "- 'median_house_value'"
   ]
  },
  {
   "cell_type": "code",
   "execution_count": 40,
   "metadata": {},
   "outputs": [],
   "source": [
    "# Filter records to meet criteria: ocean_proximity is either '<1H OCEAN' or 'INLAND'\n",
    "df2 = df[df['ocean_proximity'].isin(['<1H OCEAN', 'INLAND'])]\n",
    "\n",
    "# Choose only specified columns\n",
    "cols = ['latitude', 'longitude', 'housing_median_age', 'total_rooms', 'total_bedrooms', 'population', 'households', 'median_income', 'median_house_value']\n",
    "\n",
    "df3 = df2[cols]"
   ]
  },
  {
   "cell_type": "markdown",
   "metadata": {},
   "source": [
    "----------"
   ]
  },
  {
   "cell_type": "markdown",
   "metadata": {},
   "source": [
    "# Question 1\n",
    "There's one feature with missing values. What is it?\n",
    "\n",
    "- total_rooms\n",
    "- total_bedrooms\n",
    "- population\n",
    "- households"
   ]
  },
  {
   "cell_type": "code",
   "execution_count": 58,
   "metadata": {},
   "outputs": [
    {
     "data": {
      "text/plain": [
       "latitude                0\n",
       "longitude               0\n",
       "housing_median_age      0\n",
       "total_rooms             0\n",
       "total_bedrooms        157\n",
       "population              0\n",
       "households              0\n",
       "median_income           0\n",
       "median_house_value      0\n",
       "dtype: int64"
      ]
     },
     "execution_count": 58,
     "metadata": {},
     "output_type": "execute_result"
    }
   ],
   "source": [
    "# Find which columns have missing values.\n",
    "df3.isnull().sum()"
   ]
  },
  {
   "cell_type": "markdown",
   "metadata": {},
   "source": [
    "---------"
   ]
  },
  {
   "cell_type": "markdown",
   "metadata": {},
   "source": [
    "# Question 2\n",
    "What's the median (50% percentile) for variable 'population'?\n",
    "\n",
    "- 995\n",
    "- 1095\n",
    "- 1195\n",
    "- 1295"
   ]
  },
  {
   "cell_type": "code",
   "execution_count": 45,
   "metadata": {},
   "outputs": [
    {
     "data": {
      "text/plain": [
       "1195.0"
      ]
     },
     "execution_count": 45,
     "metadata": {},
     "output_type": "execute_result"
    }
   ],
   "source": [
    "df3['population'].median()"
   ]
  },
  {
   "cell_type": "markdown",
   "metadata": {},
   "source": [
    "-------------"
   ]
  },
  {
   "cell_type": "markdown",
   "metadata": {},
   "source": [
    "# Prepare and split the dataset\n",
    "- Shuffle the dataset (the filtered one you created above), use seed 42.\n",
    "- Split your data in train/val/test sets, with 60%/20%/20% distribution.\n",
    "- Apply the log transformation to the median_house_value variable using the np.log1p() function."
   ]
  },
  {
   "cell_type": "code",
   "execution_count": 66,
   "metadata": {},
   "outputs": [
    {
     "name": "stdout",
     "output_type": "stream",
     "text": [
      "Total no. of records: 15687\n",
      "Validation Set size: 3137\n",
      "Test set size: 3137\n",
      "Training set size: 9413\n"
     ]
    }
   ],
   "source": [
    "n = len(df3)\n",
    "n_val = int(0.2 * n)\n",
    "n_test = int(0.2 * n)\n",
    "n_train = n - (n_val + n_test)\n",
    "\n",
    "print(f'Total no. of records: {n}')\n",
    "print(f'Validation Set size: {n_val}')\n",
    "print(f'Test set size: {n_test}')\n",
    "print(f'Training set size: {n_train}')\n",
    "\n",
    "np.random.seed(42)\n",
    "idx = np.arange(n)\n",
    "np.random.shuffle(idx)\n",
    "\n",
    "df_shuffled = df3.iloc[idx]\n",
    "\n",
    "df_train_orig = df_shuffled.iloc[:n_train].copy()\n",
    "df_val_orig = df_shuffled.iloc[n_train: (n_train + n_val)].copy()\n",
    "df_test_orig = df_shuffled.iloc[(n_train + n_val):].copy()\n",
    "\n",
    "y_train = np.log1p(df_train_orig.median_house_value.values)\n",
    "y_val = np.log1p(df_val_orig.median_house_value.values)\n",
    "y_test = np.log1p(df_test_orig.median_house_value.values)"
   ]
  },
  {
   "cell_type": "markdown",
   "metadata": {},
   "source": [
    "-----------"
   ]
  },
  {
   "cell_type": "markdown",
   "metadata": {},
   "source": [
    "# Question 3\n",
    "\n",
    "- We need to deal with missing values for the column from Q1.\n",
    "- We have two options: fill it with 0 or with the mean of this variable.\n",
    "- Try both options. For each, train a linear regression model without regularization using the code from the lessons.\n",
    "- For computing the mean, use the training only!\n",
    "- Use the validation dataset to evaluate the models and compare the RMSE of each option.\n",
    "- Round the RMSE scores to 2 decimal digits using round(score, 2)\n",
    "- Which option gives better RMSE?\n",
    "\n",
    "### Options:\n",
    "\n",
    "- With 0\n",
    "- With mean\n",
    "- Both are equally good"
   ]
  },
  {
   "cell_type": "code",
   "execution_count": 67,
   "metadata": {},
   "outputs": [],
   "source": [
    "# Option 1 : Fill missing column - total_bedrooms with 0\n",
    "\n",
    "df_train = df_train_orig.copy()\n",
    "df_val = df_val_orig.copy()\n",
    "df_test = df_test_orig.copy()\n",
    "\n",
    "df_train['total_bedrooms'] = df_train['total_bedrooms'].fillna(0)\n",
    "df_val['total_bedrooms'] = df_val['total_bedrooms'].fillna(0)\n",
    "df_test['total_bedrooms'] = df_test['total_bedrooms'].fillna(0)\n",
    "\n",
    "del df_train['median_house_value']\n",
    "del df_val['median_house_value']\n",
    "del df_test['median_house_value']"
   ]
  },
  {
   "cell_type": "code",
   "execution_count": 68,
   "metadata": {},
   "outputs": [],
   "source": [
    "def train_linear_regression(X, y):\n",
    "    ones = np.ones(X.shape[0])\n",
    "    X = np.column_stack([ones, X])\n",
    "\n",
    "    XTX = X.T.dot(X)\n",
    "    XTX_inv = np.linalg.inv(XTX)\n",
    "    w = XTX_inv.dot(X.T).dot(y)\n",
    "    \n",
    "    return w[0], w[1:]"
   ]
  },
  {
   "cell_type": "code",
   "execution_count": 74,
   "metadata": {},
   "outputs": [],
   "source": [
    "X_train = df_train.values\n",
    "w_0, w = train_linear_regression(X_train, y_train)"
   ]
  },
  {
   "cell_type": "code",
   "execution_count": 75,
   "metadata": {},
   "outputs": [],
   "source": [
    "y_pred = w_0 + X_train.dot(w)"
   ]
  },
  {
   "cell_type": "code",
   "execution_count": 77,
   "metadata": {},
   "outputs": [
    {
     "data": {
      "image/png": "[encoded data removed]",
      "text/plain": [
       "<Figure size 600x400 with 1 Axes>"
      ]
     },
     "metadata": {},
     "output_type": "display_data"
    }
   ],
   "source": [
    "plt.figure(figsize=(6,4))\n",
    "\n",
    "sns.histplot(y_train, label = 'target', color='#222222', alpha=0.6, bins=40)\n",
    "sns.histplot(y_pred, label='prediction', color='#aaaaaa', alpha=0.8, bins=40)\n",
    "\n",
    "plt.legend()\n",
    "\n",
    "plt.ylabel('Frequency')\n",
    "plt.xlabel('Log(Price + 1)')\n",
    "plt.title('Predictions v/s Actual Distribution')\n",
    "\n",
    "plt.show()"
   ]
  },
  {
   "cell_type": "code",
   "execution_count": 78,
   "metadata": {},
   "outputs": [],
   "source": [
    "def rmse(y, y_pred):\n",
    "    error = y_pred - y\n",
    "    mse = (error ** 2).mean()\n",
    "    return np.sqrt(mse)"
   ]
  },
  {
   "cell_type": "code",
   "execution_count": 79,
   "metadata": {},
   "outputs": [
    {
     "data": {
      "text/plain": [
       "0.3402719715829534"
      ]
     },
     "execution_count": 79,
     "metadata": {},
     "output_type": "execute_result"
    }
   ],
   "source": [
    "rmse(y_train, y_pred)"
   ]
  },
  {
   "cell_type": "code",
   "execution_count": 80,
   "metadata": {},
   "outputs": [],
   "source": [
    "X_val = df_val.values\n",
    "y_pred = w_0 + X_val.dot(w)"
   ]
  },
  {
   "cell_type": "code",
   "execution_count": 82,
   "metadata": {},
   "outputs": [
    {
     "data": {
      "text/plain": [
       "0.3408479034201643"
      ]
     },
     "execution_count": 82,
     "metadata": {},
     "output_type": "execute_result"
    }
   ],
   "source": [
    "rmse(y_val, y_pred)"
   ]
  },
  {
   "cell_type": "markdown",
   "metadata": {},
   "source": [
    "-----------"
   ]
  },
  {
   "cell_type": "code",
   "execution_count": 90,
   "metadata": {},
   "outputs": [],
   "source": [
    "# Option 2 : Fill missing column - total_bedrooms with mean of total_bedrooms\n",
    "\n",
    "df_train = df_train_orig.copy()\n",
    "df_val = df_val_orig.copy()\n",
    "df_test = df_test_orig.copy()\n",
    "\n",
    "df_train.isnull().sum()\n",
    "avg = df_train['total_bedrooms'].mean()\n",
    "avg\n",
    "\n",
    "df_train['total_bedrooms'] = df_train['total_bedrooms'].fillna(avg)\n",
    "df_val['total_bedrooms'] = df_val['total_bedrooms'].fillna(avg)\n",
    "df_test['total_bedrooms'] = df_test['total_bedrooms'].fillna(avg)\n",
    "\n",
    "del df_train['median_house_value']\n",
    "del df_val['median_house_value']\n",
    "del df_test['median_house_value']"
   ]
  },
  {
   "cell_type": "code",
   "execution_count": 92,
   "metadata": {},
   "outputs": [],
   "source": [
    "X_train = df_train.values\n",
    "w_0, w = train_linear_regression(X_train, y_train)"
   ]
  },
  {
   "cell_type": "code",
   "execution_count": 93,
   "metadata": {},
   "outputs": [],
   "source": [
    "y_pred = w_0 + X_train.dot(w)"
   ]
  },
  {
   "cell_type": "code",
   "execution_count": 94,
   "metadata": {},
   "outputs": [
    {
     "data": {
      "image/png": "[encoded data removed]",
      "text/plain": [
       "<Figure size 600x400 with 1 Axes>"
      ]
     },
     "metadata": {},
     "output_type": "display_data"
    }
   ],
   "source": [
    "plt.figure(figsize=(6,4))\n",
    "\n",
    "sns.histplot(y_train, label = 'target', color='#222222', alpha=0.6, bins=40)\n",
    "sns.histplot(y_pred, label='prediction', color='#aaaaaa', alpha=0.8, bins=40)\n",
    "\n",
    "plt.legend()\n",
    "\n",
    "plt.ylabel('Frequency')\n",
    "plt.xlabel('Log(Price + 1)')\n",
    "plt.title('Predictions v/s Actual Distribution')\n",
    "\n",
    "plt.show()"
   ]
  },
  {
   "cell_type": "code",
   "execution_count": 95,
   "metadata": {},
   "outputs": [
    {
     "data": {
      "text/plain": [
       "0.340030082226426"
      ]
     },
     "execution_count": 95,
     "metadata": {},
     "output_type": "execute_result"
    }
   ],
   "source": [
    "rmse(y_train, y_pred)"
   ]
  },
  {
   "cell_type": "code",
   "execution_count": 96,
   "metadata": {},
   "outputs": [],
   "source": [
    "X_val = df_val.values\n",
    "y_pred = w_0 + X_val.dot(w)"
   ]
  },
  {
   "cell_type": "code",
   "execution_count": 97,
   "metadata": {},
   "outputs": [
    {
     "data": {
      "text/plain": [
       "0.3405699801479319"
      ]
     },
     "execution_count": 97,
     "metadata": {},
     "output_type": "execute_result"
    }
   ],
   "source": [
    "rmse(y_val, y_pred)"
   ]
  },
  {
   "cell_type": "markdown",
   "metadata": {},
   "source": [
    "# Question 4\n",
    "- Now let's train a regularized linear regression.\n",
    "- For this question, fill the NAs with 0.\n",
    "- Try different values of r from this list: [0, 0.000001, 0.0001, 0.001, 0.01, 0.1, 1, 5, 10].\n",
    "- Use RMSE to evaluate the model on the validation dataset.\n",
    "- Round the RMSE scores to 2 decimal digits.\n",
    "- Which r gives the best RMSE?\n",
    "- If there are multiple options, select the smallest r.\n",
    "\n",
    "### Options:\n",
    "\n",
    "- 0\n",
    "- 0.000001\n",
    "- 0.001\n",
    "- 0.0001"
   ]
  },
  {
   "cell_type": "code",
   "execution_count": 98,
   "metadata": {},
   "outputs": [],
   "source": [
    "def train_linear_regression_reg(X, y, r=0.0):\n",
    "    ones = np.ones(X.shape[0])\n",
    "    X = np.column_stack([ones, X])\n",
    "\n",
    "    XTX = X.T.dot(X)\n",
    "    reg = r * np.eye(XTX.shape[0])\n",
    "    XTX = XTX + reg\n",
    "\n",
    "    XTX_inv = np.linalg.inv(XTX)\n",
    "    w = XTX_inv.dot(X.T).dot(y)\n",
    "    \n",
    "    return w[0], w[1:]"
   ]
  },
  {
   "cell_type": "code",
   "execution_count": 99,
   "metadata": {},
   "outputs": [],
   "source": [
    "# Option 1 : Fill missing column - total_bedrooms with 0\n",
    "\n",
    "df_train = df_train_orig.copy()\n",
    "df_val = df_val_orig.copy()\n",
    "df_test = df_test_orig.copy()\n",
    "\n",
    "df_train['total_bedrooms'] = df_train['total_bedrooms'].fillna(0)\n",
    "df_val['total_bedrooms'] = df_val['total_bedrooms'].fillna(0)\n",
    "df_test['total_bedrooms'] = df_test['total_bedrooms'].fillna(0)\n",
    "\n",
    "del df_train['median_house_value']\n",
    "del df_val['median_house_value']\n",
    "del df_test['median_house_value']"
   ]
  },
  {
   "cell_type": "code",
   "execution_count": 100,
   "metadata": {},
   "outputs": [],
   "source": [
    "X_train = df_train.values\n",
    "X_val = df_val.values"
   ]
  },
  {
   "cell_type": "code",
   "execution_count": 107,
   "metadata": {},
   "outputs": [
    {
     "name": "stdout",
     "output_type": "stream",
     "text": [
      "    0, -9.76, 0.3405399458294097,   0.34\n",
      "1e-06, -9.76, 0.3405399489576252,   0.34\n",
      "0.0001, -9.76, 0.3405402589978592,   0.34\n",
      "0.001, -9.74, 0.3405430991904281,   0.34\n",
      " 0.01, -9.56, 0.3405735433507777,   0.34\n",
      "  0.1, -8.06, 0.3410078384888271,   0.34\n",
      "    1, -3.13, 0.3446958314915331,   0.34\n",
      "    5, -0.84, 0.34757242531958826,   0.35\n",
      "   10, -0.44, 0.34815331590381965,   0.35\n"
     ]
    }
   ],
   "source": [
    "for r in [0, 0.000001, 0.0001, 0.001, 0.01, 0.1, 1, 5, 10]:\n",
    "    w_0, w = train_linear_regression_reg(X_train, y_train, r=r)\n",
    "    y_pred = w_0 + X_val.dot(w)\n",
    "    err = rmse(y_val, y_pred)\n",
    "    print('%5s, %.2f, %6s, %6s' % (r, w_0, err, round(err, 2)))"
   ]
  },
  {
   "cell_type": "markdown",
   "metadata": {},
   "source": [
    "# Question 5 \n",
    "\n",
    "* We used seed 42 for splitting the data. Let's find out how selecting the seed influences our score.\n",
    "* Try different seed values: `[0, 1, 2, 3, 4, 5, 6, 7, 8, 9]`.\n",
    "* For each seed, do the train/validation/test split with 60%/20%/20% distribution.\n",
    "* Fill the missing values with 0 and train a model without regularization.\n",
    "* For each seed, evaluate the model on the validation dataset and collect the RMSE scores. \n",
    "* What's the standard deviation of all the scores? To compute the standard deviation, use `np.std`.\n",
    "* Round the result to 3 decimal digits (`round(std, 3)`)\n",
    "\n",
    "What's the value of std?\n",
    "\n",
    "- 0.5\n",
    "- 0.05\n",
    "- 0.005\n",
    "- 0.0005\n",
    "\n",
    "> Note: Standard deviation shows how different the values are.\n",
    "> If it's low, then all values are approximately the same.\n",
    "> If it's high, the values are different. \n",
    "> If standard deviation of scores is low, then our model is *stable*."
   ]
  },
  {
   "cell_type": "code",
   "execution_count": 111,
   "metadata": {},
   "outputs": [
    {
     "name": "stdout",
     "output_type": "stream",
     "text": [
      "Seed :     0, 0.33773871601241534\n",
      "Seed :     1, 0.33779993536620034\n",
      "Seed :     2, 0.3384287006770243\n",
      "Seed :     3, 0.3320049468307805\n",
      "Seed :     4, 0.33944518625569475\n",
      "Seed :     5, 0.3433819705265852\n",
      "Seed :     6, 0.3385330211770784\n",
      "Seed :     7, 0.34687476973049747\n",
      "Seed :     8, 0.35127368659561153\n",
      "Seed :     9, 0.3341558266517612\n",
      "RMSEs: [0.33773871601241534, 0.33779993536620034, 0.3384287006770243, 0.3320049468307805, 0.33944518625569475, 0.3433819705265852, 0.3385330211770784, 0.34687476973049747, 0.35127368659561153, 0.3341558266517612]\n",
      "Standard Deviation of RMSEs: 0.005\n"
     ]
    }
   ],
   "source": [
    "seeds = [0, 1, 2, 3, 4, 5, 6, 7, 8, 9]\n",
    "\n",
    "rmses_list = list()\n",
    "\n",
    "for sd in seeds:\n",
    "    np.random.seed(sd)\n",
    "    \n",
    "    idx = np.arange(n)\n",
    "    np.random.shuffle(idx)\n",
    "\n",
    "    df_shuffled = df3.iloc[idx]\n",
    "\n",
    "    df_train = df_shuffled.iloc[:n_train].copy()\n",
    "    df_val = df_shuffled.iloc[n_train: (n_train + n_val)].copy()\n",
    "    df_test = df_shuffled.iloc[(n_train + n_val):].copy()\n",
    "\n",
    "    y_train = np.log1p(df_train.median_house_value.values)\n",
    "    y_val = np.log1p(df_val.median_house_value.values)\n",
    "    y_test = np.log1p(df_test.median_house_value.values)\n",
    "\n",
    "    df_train['total_bedrooms'] = df_train['total_bedrooms'].fillna(0)\n",
    "    df_val['total_bedrooms'] = df_val['total_bedrooms'].fillna(0)\n",
    "    df_test['total_bedrooms'] = df_test['total_bedrooms'].fillna(0)\n",
    "\n",
    "    del df_train['median_house_value']\n",
    "    del df_val['median_house_value']\n",
    "    del df_test['median_house_value']\n",
    "\n",
    "    X_train = df_train.values\n",
    "    w_0, w = train_linear_regression(X_train, y_train)\n",
    "\n",
    "    # y_pred = w_0 + X_train.dot(w)\n",
    "    # err = rmse(y_train, y_pred)\n",
    "\n",
    "    X_val = df_val.values\n",
    "    y_pred = w_0 + X_val.dot(w)\n",
    "    err = rmse(y_val, y_pred)\n",
    "\n",
    "    print('Seed : %5s, %6s' % (sd, err))\n",
    "    rmses_list.append(err)\n",
    "\n",
    "# print(f'RMSEs: {rmses_list}')\n",
    "std = np.std(rmses_list)\n",
    "print(f'Standard Deviation of RMSEs: {round(std, 3)}')\n"
   ]
  },
  {
   "cell_type": "markdown",
   "metadata": {},
   "source": [
    "-----------"
   ]
  },
  {
   "cell_type": "markdown",
   "metadata": {},
   "source": [
    "# Question 6\n",
    "\n",
    "* Split the dataset like previously, use seed 9.\n",
    "* Combine train and validation datasets.\n",
    "* Fill the missing values with 0 and train a model with `r=0.001`. \n",
    "* What's the RMSE on the test dataset?\n",
    "\n",
    "Options:\n",
    "\n",
    "- 0.13\n",
    "- 0.23\n",
    "- 0.33\n",
    "- 0.43"
   ]
  },
  {
   "cell_type": "code",
   "execution_count": 113,
   "metadata": {},
   "outputs": [
    {
     "name": "stdout",
     "output_type": "stream",
     "text": [
      "RMSE on test dataset: 0.33\n"
     ]
    }
   ],
   "source": [
    "np.random.seed(9)\n",
    "\n",
    "idx = np.arange(n)\n",
    "np.random.shuffle(idx)\n",
    "\n",
    "df_shuffled = df3.iloc[idx]\n",
    "\n",
    "df_train = df_shuffled.iloc[:(n_train + n_val)].copy()\n",
    "# df_val = df_shuffled.iloc[n_train: (n_train + n_val)].copy()\n",
    "df_test = df_shuffled.iloc[(n_train + n_val):].copy()\n",
    "\n",
    "y_train = np.log1p(df_train.median_house_value.values)\n",
    "# y_val = np.log1p(df_val.median_house_value.values)\n",
    "y_test = np.log1p(df_test.median_house_value.values)\n",
    "\n",
    "df_train['total_bedrooms'] = df_train['total_bedrooms'].fillna(0)\n",
    "# df_val['total_bedrooms'] = df_val['total_bedrooms'].fillna(0)\n",
    "df_test['total_bedrooms'] = df_test['total_bedrooms'].fillna(0)\n",
    "\n",
    "del df_train['median_house_value']\n",
    "# del df_val['median_house_value']\n",
    "del df_test['median_house_value']\n",
    "\n",
    "X_train = df_train.values\n",
    "w_0, w = train_linear_regression_reg(X_train, y_train, 0.001)\n",
    "\n",
    "X_test = df_test.values\n",
    "y_pred = w_0 + X_test.dot(w)\n",
    "err = rmse(y_test, y_pred)\n",
    "\n",
    "print(f'RMSE on test dataset: {round(err, 2)}')"
   ]
  }
 ],
 "metadata": {
  "kernelspec": {
   "display_name": "Python 3",
   "language": "python",
   "name": "python3"
  },
  "language_info": {
   "codemirror_mode": {
    "name": "ipython",
    "version": 3
   },
   "file_extension": ".py",
   "mimetype": "text/x-python",
   "name": "python",
   "nbconvert_exporter": "python",
   "pygments_lexer": "ipython3",
   "version": "3.10.13"
  },
  "orig_nbformat": 4
 },
 "nbformat": 4,
 "nbformat_minor": 2
}
